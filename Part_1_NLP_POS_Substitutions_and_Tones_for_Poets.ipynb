{
  "nbformat": 4,
  "nbformat_minor": 0,
  "metadata": {
    "colab": {
      "name": "Part 1: NLP POS Substitutions and Tones for Poets.ipynb",
      "provenance": [],
      "collapsed_sections": [],
      "authorship_tag": "ABX9TyOT/Hp5+Clv7o2hl8ydp7YW",
      "include_colab_link": true
    },
    "kernelspec": {
      "name": "python3",
      "display_name": "Python 3"
    },
    "language_info": {
      "name": "python"
    }
  },
  "cells": [
    {
      "cell_type": "markdown",
      "metadata": {
        "id": "view-in-github",
        "colab_type": "text"
      },
      "source": [
        "<a href=\"https://colab.research.google.com/github/rameshavinash94/CMPE257_NLP/blob/main/Part_1_NLP_POS_Substitutions_and_Tones_for_Poets.ipynb\" target=\"_parent\"><img src=\"https://colab.research.google.com/assets/colab-badge.svg\" alt=\"Open In Colab\"/></a>"
      ]
    },
    {
      "cell_type": "markdown",
      "source": [
        "**IMPORTING LIBRARIES**"
      ],
      "metadata": {
        "id": "BOXVFv3y8hae"
      }
    },
    {
      "cell_type": "code",
      "execution_count": null,
      "metadata": {
        "id": "7iFLkkivMdmM"
      },
      "outputs": [],
      "source": [
        "import spacy\n",
        "import requests\n",
        "import numpy as np\n",
        "import pandas as pd\n",
        "from bs4 import BeautifulSoup\n",
        "import re\n",
        "import json"
      ]
    },
    {
      "cell_type": "markdown",
      "source": [
        "**SUPRESS WARNING**"
      ],
      "metadata": {
        "id": "94QpQryh8kvu"
      }
    },
    {
      "cell_type": "code",
      "source": [
        "#just to supress warnings\n",
        "import warnings\n",
        "warnings.filterwarnings(\"ignore\")"
      ],
      "metadata": {
        "id": "OVWkmtVLx6Q8"
      },
      "execution_count": null,
      "outputs": []
    },
    {
      "cell_type": "markdown",
      "source": [
        "**INSTALL SPACY ENGLISH LANGUAGE MODEL**"
      ],
      "metadata": {
        "id": "Fke7CSNv8ncl"
      }
    },
    {
      "cell_type": "code",
      "source": [
        "#install spacy large english language model to use\n",
        "#! python -m spacy download en_core_web_lg"
      ],
      "metadata": {
        "id": "0GnmEVKLuYat"
      },
      "execution_count": null,
      "outputs": []
    },
    {
      "cell_type": "code",
      "source": [
        "#exit()"
      ],
      "metadata": {
        "id": "N0ddhtGoBoX4"
      },
      "execution_count": null,
      "outputs": []
    },
    {
      "cell_type": "markdown",
      "source": [
        "**POEM CLASS WITH ALL FUNCTIONALITY**"
      ],
      "metadata": {
        "id": "VXt6rpzb8q-P"
      }
    },
    {
      "cell_type": "code",
      "source": [
        "class Poem:\n",
        "\n",
        "  def __init__(self):\n",
        "       self.poem1_info=None\n",
        "       self.poem2_info=None\n",
        "       self.poem1=None\n",
        "       self.poem2=None\n",
        "       self.nlp = spacy.load('en_core_web_lg')\n",
        "       self.doc1_pos=[]\n",
        "       self.doc2_pos=[]\n",
        "       self.corpus1=''\n",
        "       self.corpus2=''\n",
        "       self.new_poem3=''\n",
        "       self.new_poem4=''\n",
        "       self.doc1_mappings={}\n",
        "       self.doc2_mappings={}\n",
        "\n",
        "  def UserInput(self):\n",
        "        '''\n",
        "        This Function is to get user query for poem retrival\n",
        "        '''\n",
        "        self.poem1 = input('Enter the exact Poem name 1 to retrieve:')\n",
        "        self.poem2 = input('Enter the exact Poem name 2 to retrieve:')\n",
        "        if not (self.poem1 or self.poem2):\n",
        "          raise Exception('User input is empty')\n",
        "        \n",
        "        #user input preprocessing per api\n",
        "        self.poem1= self.poem1.replace(' ','-')\n",
        "        self.poem2= self.poem2.replace(' ','-')\n",
        "        \n",
        "        return self.poem1,self.poem2\n",
        "\n",
        "  def Scrapper(self):\n",
        "      '''\n",
        "        #Iterate and Scrap data to get poem and author name and store in Df\n",
        "      '''\n",
        "      poem1_info={'poet':'','peom':''}\n",
        "      poem2_info={'poet':'','peom':''}\n",
        "      iter=[self.poem1,self.poem2]\n",
        "      for i,itr in enumerate(iter):\n",
        "        url='https://allpoetry.com/{iter}'.format(iter=itr)\n",
        "        html_content = requests.get(url).text\n",
        "        doc=BeautifulSoup(html_content,'html.parser')\n",
        "\n",
        "        for div in doc.find_all('div',attrs={\"class\" : re.compile(\"^bio*\")})[0]:\n",
        "            ahref = div.find_all(\"a\",attrs={\"class\": \"u nocolor\"})\n",
        "            for x in ahref:\n",
        "              if x!=None:\n",
        "                if i==0:\n",
        "                    poem1_info['poet']= x.text\n",
        "                else:\n",
        "                    poem2_info['poet']= x.text\n",
        "\n",
        "        for div in doc.find_all('div',attrs={\"class\" : re.compile(\"^orig\")}):\n",
        "          if i==0:\n",
        "            poem1_info['peom']= div.text\n",
        "          else:\n",
        "            poem2_info['peom']= div.text\n",
        "      \n",
        "      self.poem1_info=poem1_info\n",
        "      self.poem2_info=poem2_info\n",
        "      print(self.poem1_info)\n",
        "      print(self.poem2_info)\n",
        "\n",
        "  def Convert_df(self):\n",
        "    '''\n",
        "    This function converts the peom info to DF.\n",
        "    '''\n",
        "    self.poet_1_df = pd.DataFrame(self.poem1_info,index=[0])\n",
        "    self.poet_2_df = pd.DataFrame(self.poem2_info,index=[0])\n",
        "\n",
        "  def lemmatization(self,corpus):\n",
        "        '''\n",
        "        This Function removes stop words and lemmatizes the provided corpus\n",
        "        :return: Stop word removed & Canonical form corpus (canonical)\n",
        "        '''\n",
        "        canonical=[]\n",
        "        for x in corpus:\n",
        "            temp=[]\n",
        "            for token in self.nlp(x):\n",
        "                if not token.is_stop:\n",
        "                    temp.append(token.lemma_)\n",
        "\n",
        "            canonical.append(\" \".join(temp))\n",
        "\n",
        "        return canonical\n",
        "\n",
        "  def PreprocessPoems(self,lematization=True):\n",
        "        '''\n",
        "        This Function is to preprocess user input,calls lemmatization function and extract only the nceesary POS if requested.\n",
        "        '''\n",
        "        if lematization==True:\n",
        "          self.corpus1 = self.lemmatization(self.poet_1_df['peom'])\n",
        "          self.corpus2 = self.lemmatization(self.poet_2_df['peom'])\n",
        "          print('lemmatizated of Poems 1 & 2')\n",
        "          print('============')\n",
        "          print('\\n')\n",
        "          print(self.corpus1)\n",
        "          print('\\n')\n",
        "          print(self.corpus2)\n",
        "          print('\\n****************************')\n",
        "\n",
        "        else:\n",
        "          self.corpus1=self.poet_1_df['peom']\n",
        "          self.corpus2=self.poet_2_df['peom']\n",
        "\n",
        "        removed_sp_char_1 = [re.sub(r\"[^a-zA-Z0-9]+\", ' ', doc) for doc in self.corpus1]\n",
        "        removed_sp_char_2 = [re.sub(r\"[^a-zA-Z0-9]+\", ' ', doc) for doc in self.corpus2]\n",
        "        print('Cleaned Poem1')\n",
        "        print('============')\n",
        "        print(removed_sp_char_1)\n",
        "        print('\\n')\n",
        "        print('Cleaned Poem2')\n",
        "        print('============')\n",
        "        print(removed_sp_char_2)\n",
        "        print('\\n****************************')\n",
        "\n",
        "        doc1= self.nlp(removed_sp_char_1[0])\n",
        "        doc2= self.nlp(removed_sp_char_2[0])\n",
        "        for token in doc1:\n",
        "            if token.pos_ in ('PROPN', 'NUM', 'VERB', 'NOUN', 'ADJ'):\n",
        "              self.doc1_pos.append(token.text)\n",
        "        \n",
        "        for token in doc2:\n",
        "            if token.pos_ in ('PROPN', 'NUM', 'VERB', 'NOUN', 'ADJ'):\n",
        "              self.doc2_pos.append(token.text)\n",
        "        \n",
        "        print('POS OF POEMS')\n",
        "        print('============')\n",
        "        print('Poem1 POS')\n",
        "        print(self.doc1_pos)\n",
        "        print('\\n')\n",
        "        print('Poem2 POS')\n",
        "        print(self.doc2_pos)\n",
        "  \n",
        "  def write_json(self):\n",
        "    '''\n",
        "    This function writes to json\n",
        "    '''\n",
        "    poem1_details=self.poem1_info\n",
        "    poem1_details['POS']=self.doc1_pos\n",
        "\n",
        "    poem2_details=self.poem2_info\n",
        "    poem2_details['POS']=self.doc2_pos\n",
        "\n",
        "    with open(\"poet1.json\", \"w\") as outfile:\n",
        "      json.dump(poem1_details, outfile)\n",
        "\n",
        "    with open(\"poet2.json\", \"w\") as outfile:\n",
        "      json.dump(poem2_details, outfile)\n",
        "  \n",
        "  def ComputeSimilarity(self):\n",
        "    '''\n",
        "    This function computes cosine similarity\n",
        "    '''\n",
        "    for x in self.doc1_pos:\n",
        "      max=-1\n",
        "      for y in self.doc2_pos:\n",
        "        score=self.nlp(x).similarity(self.nlp(y))\n",
        "        if score > max:\n",
        "          self.doc1_mappings[x]=[y,score]\n",
        "          max=score\n",
        "    \n",
        "    for x in self.doc2_pos:\n",
        "      max=-1\n",
        "      for y in self.doc1_pos:\n",
        "        score=self.nlp(x).similarity(self.nlp(y))\n",
        "        if score > max:\n",
        "          self.doc2_mappings[x]=[y,score]\n",
        "          max=score\n",
        "    print('Poem1 Similar POS in Poem2')\n",
        "    print(self.doc1_mappings)\n",
        "    print('\\n')\n",
        "    print('Poem2 Similar POS in Poem2')\n",
        "    print(self.doc2_mappings)\n",
        "\n",
        "  def Create_new_Poems(self):\n",
        "    '''\n",
        "    This functino creates new poems based on the provided one's.\n",
        "    '''\n",
        "    self.new_poem3=str(self.corpus1[0])\n",
        "    self.new_poem4=str(self.corpus2[0])\n",
        "    for key, value in self.doc1_mappings.items():\n",
        "    # Replace key POS with value POS in string\n",
        "      self.new_poem3 = self.new_poem3.replace(str(key), str(value[0]))\n",
        "    \n",
        "    for key, value in self.doc2_mappings.items():\n",
        "    # Replace key POS with value POS in string\n",
        "      self.new_poem4 = self.new_poem4.replace(str(key), str(value[0]))\n",
        "  \n",
        "  def print_new_Poems(self):\n",
        "    '''\n",
        "    This function prints the new poem\n",
        "    '''\n",
        "    print('\\n New Poem1 based on POS of Poem2')\n",
        "    print(self.new_poem3)\n",
        "    print('\\n New Poem2 based on POS of Poem1')\n",
        "    print(self.new_poem4)"
      ],
      "metadata": {
        "id": "E0daNgrkN2ec"
      },
      "execution_count": null,
      "outputs": []
    },
    {
      "cell_type": "markdown",
      "source": [
        "**CREATE OBJECT FOR THE CLASS**"
      ],
      "metadata": {
        "id": "hHqToe9U4M4-"
      }
    },
    {
      "cell_type": "code",
      "source": [
        "#create object for the class\n",
        "tmp = Poem()"
      ],
      "metadata": {
        "id": "XcEZiAs2QzKW"
      },
      "execution_count": null,
      "outputs": []
    },
    {
      "cell_type": "markdown",
      "source": [
        "**GET INPUT FOR 2 POEMS**"
      ],
      "metadata": {
        "id": "8BljzvIl4Quc"
      }
    },
    {
      "cell_type": "code",
      "source": [
        "# Poet1 - Edward Dyer   : Poem: The-lowest-trees-have-tops\n",
        "# Poet2 - Walt Whitman : A-Promise-To-California"
      ],
      "metadata": {
        "id": "gqG95nCMJSGD"
      },
      "execution_count": null,
      "outputs": []
    },
    {
      "cell_type": "code",
      "source": [
        "#GET USER INPUT\n",
        "tmp.UserInput()"
      ],
      "metadata": {
        "colab": {
          "base_uri": "https://localhost:8080/"
        },
        "id": "dW3Hmmj7RJWi",
        "outputId": "523517ca-5cee-457d-cd42-d5a192112940"
      },
      "execution_count": null,
      "outputs": [
        {
          "name": "stdout",
          "output_type": "stream",
          "text": [
            "Enter the exact Poem name 1 to retrieve:The-lowest-trees-have-tops\n",
            "Enter the exact Poem name 2 to retrieve:A-Promise-To-California\n"
          ]
        },
        {
          "output_type": "execute_result",
          "data": {
            "text/plain": [
              "('The-lowest-trees-have-tops', 'A-Promise-To-California')"
            ]
          },
          "metadata": {},
          "execution_count": 189
        }
      ]
    },
    {
      "cell_type": "markdown",
      "source": [
        "**RUN SCRAPPER TO EXTRACT POEM FROM ALLPOETRY**"
      ],
      "metadata": {
        "id": "mlrPnpcg4VTH"
      }
    },
    {
      "cell_type": "code",
      "source": [
        "#Call scrapper function\n",
        "tmp.Scrapper()"
      ],
      "metadata": {
        "colab": {
          "base_uri": "https://localhost:8080/"
        },
        "id": "94Z22NQwRPdU",
        "outputId": "cf907d8b-b313-4103-ba27-419593e190e7"
      },
      "execution_count": null,
      "outputs": [
        {
          "output_type": "stream",
          "name": "stdout",
          "text": [
            "{'poet': 'Edward Dyer', 'peom': '\\r\\n\\tThe lowest trees have tops, the ant her gall,\\r\\n\\tThe fly her spleen, the little spark his heat;\\r\\n\\tAnd slender hairs cast shadows, though but small,\\r\\n\\tAnd bees have stings, although they be not great.\\r\\n\\t\\xa0\\xa0\\xa0\\xa0 Seas have their source, and so have shallow springs,\\r\\n\\t\\xa0\\xa0\\xa0\\xa0 And love is love, in beggars and in kings.\\r\\n\\tWhere waters smoothest run, there deepest are the fords,\\r\\n\\tThe dial stirs, yet none perceives it move;\\r\\n\\tThe firmest faith is found in fewest words,\\r\\n\\tThe turtles do not sing, and yet they love;\\r\\n\\t\\xa0\\xa0\\xa0\\xa0 True hearts have ears and eyes, no tongues to speak;\\r\\n\\t\\xa0\\xa0\\xa0\\xa0 They hear and see, and sigh, and then they break.'}\n",
            "{'poet': 'Walt Whitman', 'peom': 'A PROMISE to California,\\nAlso to the great Pastoral Plains, and for Oregon:\\nSojourning east a while longer, soon I travel toward you, to remain,\\n \\xa0 \\xa0 \\xa0 \\xa0 to teach robust American love;\\nFor I know very well that I and robust love belong among you, inland,\\n \\xa0 \\xa0 \\xa0 \\xa0 and along the Western Sea;\\nFor These States tend inland, and toward the Western Sea—and I will\\n \\xa0 \\xa0 \\xa0 \\xa0 also.'}\n"
          ]
        }
      ]
    },
    {
      "cell_type": "markdown",
      "source": [
        "**CONVERT THE INFO TO DF TO EASIER VISUALIZATION**"
      ],
      "metadata": {
        "id": "fKQ0Bwwl4vJZ"
      }
    },
    {
      "cell_type": "code",
      "source": [
        "#convert to df both poem1, poem2\n",
        "tmp.Convert_df()"
      ],
      "metadata": {
        "id": "1BFg3RV7iLPZ"
      },
      "execution_count": null,
      "outputs": []
    },
    {
      "cell_type": "code",
      "source": [
        "#view df1\n",
        "tmp.poet_1_df"
      ],
      "metadata": {
        "colab": {
          "base_uri": "https://localhost:8080/",
          "height": 80
        },
        "id": "-lXzsmJuiULR",
        "outputId": "dabb8090-3331-4b56-b9f8-08fda3c8012c"
      },
      "execution_count": null,
      "outputs": [
        {
          "output_type": "execute_result",
          "data": {
            "text/plain": [
              "          poet                                               peom\n",
              "0  Edward Dyer  \\r\\n\\tThe lowest trees have tops, the ant her ..."
            ],
            "text/html": [
              "\n",
              "  <div id=\"df-50ea9848-7b90-4850-a963-8b6c812d8223\">\n",
              "    <div class=\"colab-df-container\">\n",
              "      <div>\n",
              "<style scoped>\n",
              "    .dataframe tbody tr th:only-of-type {\n",
              "        vertical-align: middle;\n",
              "    }\n",
              "\n",
              "    .dataframe tbody tr th {\n",
              "        vertical-align: top;\n",
              "    }\n",
              "\n",
              "    .dataframe thead th {\n",
              "        text-align: right;\n",
              "    }\n",
              "</style>\n",
              "<table border=\"1\" class=\"dataframe\">\n",
              "  <thead>\n",
              "    <tr style=\"text-align: right;\">\n",
              "      <th></th>\n",
              "      <th>poet</th>\n",
              "      <th>peom</th>\n",
              "    </tr>\n",
              "  </thead>\n",
              "  <tbody>\n",
              "    <tr>\n",
              "      <th>0</th>\n",
              "      <td>Edward Dyer</td>\n",
              "      <td>\\r\\n\\tThe lowest trees have tops, the ant her ...</td>\n",
              "    </tr>\n",
              "  </tbody>\n",
              "</table>\n",
              "</div>\n",
              "      <button class=\"colab-df-convert\" onclick=\"convertToInteractive('df-50ea9848-7b90-4850-a963-8b6c812d8223')\"\n",
              "              title=\"Convert this dataframe to an interactive table.\"\n",
              "              style=\"display:none;\">\n",
              "        \n",
              "  <svg xmlns=\"http://www.w3.org/2000/svg\" height=\"24px\"viewBox=\"0 0 24 24\"\n",
              "       width=\"24px\">\n",
              "    <path d=\"M0 0h24v24H0V0z\" fill=\"none\"/>\n",
              "    <path d=\"M18.56 5.44l.94 2.06.94-2.06 2.06-.94-2.06-.94-.94-2.06-.94 2.06-2.06.94zm-11 1L8.5 8.5l.94-2.06 2.06-.94-2.06-.94L8.5 2.5l-.94 2.06-2.06.94zm10 10l.94 2.06.94-2.06 2.06-.94-2.06-.94-.94-2.06-.94 2.06-2.06.94z\"/><path d=\"M17.41 7.96l-1.37-1.37c-.4-.4-.92-.59-1.43-.59-.52 0-1.04.2-1.43.59L10.3 9.45l-7.72 7.72c-.78.78-.78 2.05 0 2.83L4 21.41c.39.39.9.59 1.41.59.51 0 1.02-.2 1.41-.59l7.78-7.78 2.81-2.81c.8-.78.8-2.07 0-2.86zM5.41 20L4 18.59l7.72-7.72 1.47 1.35L5.41 20z\"/>\n",
              "  </svg>\n",
              "      </button>\n",
              "      \n",
              "  <style>\n",
              "    .colab-df-container {\n",
              "      display:flex;\n",
              "      flex-wrap:wrap;\n",
              "      gap: 12px;\n",
              "    }\n",
              "\n",
              "    .colab-df-convert {\n",
              "      background-color: #E8F0FE;\n",
              "      border: none;\n",
              "      border-radius: 50%;\n",
              "      cursor: pointer;\n",
              "      display: none;\n",
              "      fill: #1967D2;\n",
              "      height: 32px;\n",
              "      padding: 0 0 0 0;\n",
              "      width: 32px;\n",
              "    }\n",
              "\n",
              "    .colab-df-convert:hover {\n",
              "      background-color: #E2EBFA;\n",
              "      box-shadow: 0px 1px 2px rgba(60, 64, 67, 0.3), 0px 1px 3px 1px rgba(60, 64, 67, 0.15);\n",
              "      fill: #174EA6;\n",
              "    }\n",
              "\n",
              "    [theme=dark] .colab-df-convert {\n",
              "      background-color: #3B4455;\n",
              "      fill: #D2E3FC;\n",
              "    }\n",
              "\n",
              "    [theme=dark] .colab-df-convert:hover {\n",
              "      background-color: #434B5C;\n",
              "      box-shadow: 0px 1px 3px 1px rgba(0, 0, 0, 0.15);\n",
              "      filter: drop-shadow(0px 1px 2px rgba(0, 0, 0, 0.3));\n",
              "      fill: #FFFFFF;\n",
              "    }\n",
              "  </style>\n",
              "\n",
              "      <script>\n",
              "        const buttonEl =\n",
              "          document.querySelector('#df-50ea9848-7b90-4850-a963-8b6c812d8223 button.colab-df-convert');\n",
              "        buttonEl.style.display =\n",
              "          google.colab.kernel.accessAllowed ? 'block' : 'none';\n",
              "\n",
              "        async function convertToInteractive(key) {\n",
              "          const element = document.querySelector('#df-50ea9848-7b90-4850-a963-8b6c812d8223');\n",
              "          const dataTable =\n",
              "            await google.colab.kernel.invokeFunction('convertToInteractive',\n",
              "                                                     [key], {});\n",
              "          if (!dataTable) return;\n",
              "\n",
              "          const docLinkHtml = 'Like what you see? Visit the ' +\n",
              "            '<a target=\"_blank\" href=https://colab.research.google.com/notebooks/data_table.ipynb>data table notebook</a>'\n",
              "            + ' to learn more about interactive tables.';\n",
              "          element.innerHTML = '';\n",
              "          dataTable['output_type'] = 'display_data';\n",
              "          await google.colab.output.renderOutput(dataTable, element);\n",
              "          const docLink = document.createElement('div');\n",
              "          docLink.innerHTML = docLinkHtml;\n",
              "          element.appendChild(docLink);\n",
              "        }\n",
              "      </script>\n",
              "    </div>\n",
              "  </div>\n",
              "  "
            ]
          },
          "metadata": {},
          "execution_count": 192
        }
      ]
    },
    {
      "cell_type": "code",
      "source": [
        "#view df2\n",
        "tmp.poet_2_df"
      ],
      "metadata": {
        "colab": {
          "base_uri": "https://localhost:8080/",
          "height": 80
        },
        "id": "wPeNN4uEeB7i",
        "outputId": "9d211f0d-32b6-4c86-b660-a07693d3a5a6"
      },
      "execution_count": null,
      "outputs": [
        {
          "output_type": "execute_result",
          "data": {
            "text/plain": [
              "           poet                                               peom\n",
              "0  Walt Whitman  A PROMISE to California,\\nAlso to the great Pa..."
            ],
            "text/html": [
              "\n",
              "  <div id=\"df-e6e0b6f7-fddb-4b06-9531-e11af154134c\">\n",
              "    <div class=\"colab-df-container\">\n",
              "      <div>\n",
              "<style scoped>\n",
              "    .dataframe tbody tr th:only-of-type {\n",
              "        vertical-align: middle;\n",
              "    }\n",
              "\n",
              "    .dataframe tbody tr th {\n",
              "        vertical-align: top;\n",
              "    }\n",
              "\n",
              "    .dataframe thead th {\n",
              "        text-align: right;\n",
              "    }\n",
              "</style>\n",
              "<table border=\"1\" class=\"dataframe\">\n",
              "  <thead>\n",
              "    <tr style=\"text-align: right;\">\n",
              "      <th></th>\n",
              "      <th>poet</th>\n",
              "      <th>peom</th>\n",
              "    </tr>\n",
              "  </thead>\n",
              "  <tbody>\n",
              "    <tr>\n",
              "      <th>0</th>\n",
              "      <td>Walt Whitman</td>\n",
              "      <td>A PROMISE to California,\\nAlso to the great Pa...</td>\n",
              "    </tr>\n",
              "  </tbody>\n",
              "</table>\n",
              "</div>\n",
              "      <button class=\"colab-df-convert\" onclick=\"convertToInteractive('df-e6e0b6f7-fddb-4b06-9531-e11af154134c')\"\n",
              "              title=\"Convert this dataframe to an interactive table.\"\n",
              "              style=\"display:none;\">\n",
              "        \n",
              "  <svg xmlns=\"http://www.w3.org/2000/svg\" height=\"24px\"viewBox=\"0 0 24 24\"\n",
              "       width=\"24px\">\n",
              "    <path d=\"M0 0h24v24H0V0z\" fill=\"none\"/>\n",
              "    <path d=\"M18.56 5.44l.94 2.06.94-2.06 2.06-.94-2.06-.94-.94-2.06-.94 2.06-2.06.94zm-11 1L8.5 8.5l.94-2.06 2.06-.94-2.06-.94L8.5 2.5l-.94 2.06-2.06.94zm10 10l.94 2.06.94-2.06 2.06-.94-2.06-.94-.94-2.06-.94 2.06-2.06.94z\"/><path d=\"M17.41 7.96l-1.37-1.37c-.4-.4-.92-.59-1.43-.59-.52 0-1.04.2-1.43.59L10.3 9.45l-7.72 7.72c-.78.78-.78 2.05 0 2.83L4 21.41c.39.39.9.59 1.41.59.51 0 1.02-.2 1.41-.59l7.78-7.78 2.81-2.81c.8-.78.8-2.07 0-2.86zM5.41 20L4 18.59l7.72-7.72 1.47 1.35L5.41 20z\"/>\n",
              "  </svg>\n",
              "      </button>\n",
              "      \n",
              "  <style>\n",
              "    .colab-df-container {\n",
              "      display:flex;\n",
              "      flex-wrap:wrap;\n",
              "      gap: 12px;\n",
              "    }\n",
              "\n",
              "    .colab-df-convert {\n",
              "      background-color: #E8F0FE;\n",
              "      border: none;\n",
              "      border-radius: 50%;\n",
              "      cursor: pointer;\n",
              "      display: none;\n",
              "      fill: #1967D2;\n",
              "      height: 32px;\n",
              "      padding: 0 0 0 0;\n",
              "      width: 32px;\n",
              "    }\n",
              "\n",
              "    .colab-df-convert:hover {\n",
              "      background-color: #E2EBFA;\n",
              "      box-shadow: 0px 1px 2px rgba(60, 64, 67, 0.3), 0px 1px 3px 1px rgba(60, 64, 67, 0.15);\n",
              "      fill: #174EA6;\n",
              "    }\n",
              "\n",
              "    [theme=dark] .colab-df-convert {\n",
              "      background-color: #3B4455;\n",
              "      fill: #D2E3FC;\n",
              "    }\n",
              "\n",
              "    [theme=dark] .colab-df-convert:hover {\n",
              "      background-color: #434B5C;\n",
              "      box-shadow: 0px 1px 3px 1px rgba(0, 0, 0, 0.15);\n",
              "      filter: drop-shadow(0px 1px 2px rgba(0, 0, 0, 0.3));\n",
              "      fill: #FFFFFF;\n",
              "    }\n",
              "  </style>\n",
              "\n",
              "      <script>\n",
              "        const buttonEl =\n",
              "          document.querySelector('#df-e6e0b6f7-fddb-4b06-9531-e11af154134c button.colab-df-convert');\n",
              "        buttonEl.style.display =\n",
              "          google.colab.kernel.accessAllowed ? 'block' : 'none';\n",
              "\n",
              "        async function convertToInteractive(key) {\n",
              "          const element = document.querySelector('#df-e6e0b6f7-fddb-4b06-9531-e11af154134c');\n",
              "          const dataTable =\n",
              "            await google.colab.kernel.invokeFunction('convertToInteractive',\n",
              "                                                     [key], {});\n",
              "          if (!dataTable) return;\n",
              "\n",
              "          const docLinkHtml = 'Like what you see? Visit the ' +\n",
              "            '<a target=\"_blank\" href=https://colab.research.google.com/notebooks/data_table.ipynb>data table notebook</a>'\n",
              "            + ' to learn more about interactive tables.';\n",
              "          element.innerHTML = '';\n",
              "          dataTable['output_type'] = 'display_data';\n",
              "          await google.colab.output.renderOutput(dataTable, element);\n",
              "          const docLink = document.createElement('div');\n",
              "          docLink.innerHTML = docLinkHtml;\n",
              "          element.appendChild(docLink);\n",
              "        }\n",
              "      </script>\n",
              "    </div>\n",
              "  </div>\n",
              "  "
            ]
          },
          "metadata": {},
          "execution_count": 193
        }
      ]
    },
    {
      "cell_type": "markdown",
      "source": [
        "**PERFORM NLP PREPROCESSING - STOP WORD REMOVAL/LEMMATIZATION/CLEAN THE CORPUS**"
      ],
      "metadata": {
        "id": "uI3rM-3p4ztN"
      }
    },
    {
      "cell_type": "code",
      "source": [
        "#run preporcessing function\n",
        "tmp.PreprocessPoems()"
      ],
      "metadata": {
        "colab": {
          "base_uri": "https://localhost:8080/"
        },
        "id": "x8Es0bF6nLWj",
        "outputId": "bba823ec-e6b5-410d-d5d8-29423c5ee36e"
      },
      "execution_count": null,
      "outputs": [
        {
          "output_type": "stream",
          "name": "stdout",
          "text": [
            "lemmatizated of Poems 1 & 2\n",
            "============\n",
            "\n",
            "\n",
            "['\\r\\n\\t low tree top , ant gall , \\r\\n\\t fly spleen , little spark heat ; \\r\\n\\t slender hair cast shadow , small , \\r\\n\\t bee sting , great . \\r\\n\\t\\xa0\\xa0\\xa0\\xa0  Seas source , shallow spring , \\r\\n\\t\\xa0\\xa0\\xa0\\xa0  love love , beggar king . \\r\\n\\t water smooth run , deep ford , \\r\\n\\t dial stir , perceive ; \\r\\n\\t firm faith find few word , \\r\\n\\t turtle sing , love ; \\r\\n\\t\\xa0\\xa0\\xa0\\xa0  true heart ear eye , tongue speak ; \\r\\n\\t\\xa0\\xa0\\xa0\\xa0  hear , sigh , break .']\n",
            "\n",
            "\n",
            "['promise California , \\n great Pastoral Plains , Oregon : \\n sojourn east longer , soon travel , remain , \\n \\xa0 \\xa0 \\xa0 \\xa0  teach robust american love ; \\n know robust love belong , inland , \\n \\xa0 \\xa0 \\xa0 \\xa0  Western Sea ; \\n state tend inland , Western Sea — \\n \\xa0 \\xa0 \\xa0 \\xa0  .']\n",
            "\n",
            "****************************\n",
            "Cleaned Poem1\n",
            "============\n",
            "[' low tree top ant gall fly spleen little spark heat slender hair cast shadow small bee sting great Seas source shallow spring love love beggar king water smooth run deep ford dial stir perceive firm faith find few word turtle sing love true heart ear eye tongue speak hear sigh break ']\n",
            "\n",
            "\n",
            "Cleaned Poem2\n",
            "============\n",
            "['promise California great Pastoral Plains Oregon sojourn east longer soon travel remain teach robust american love know robust love belong inland Western Sea state tend inland Western Sea ']\n",
            "\n",
            "****************************\n",
            "POS OF POEMS\n",
            "============\n",
            "Poem1 POS\n",
            "['low', 'tree', 'top', 'ant', 'gall', 'fly', 'spleen', 'little', 'spark', 'heat', 'slender', 'hair', 'cast', 'shadow', 'small', 'bee', 'sting', 'great', 'Seas', 'source', 'shallow', 'spring', 'love', 'love', 'beggar', 'king', 'water', 'run', 'deep', 'ford', 'dial', 'stir', 'perceive', 'firm', 'faith', 'find', 'few', 'word', 'turtle', 'sing', 'love', 'true', 'heart', 'eye', 'tongue', 'speak', 'hear', 'sigh', 'break']\n",
            "\n",
            "\n",
            "Poem2 POS\n",
            "['promise', 'California', 'great', 'Pastoral', 'Plains', 'Oregon', 'sojourn', 'travel', 'remain', 'teach', 'robust', 'american', 'love', 'know', 'robust', 'love', 'belong', 'inland', 'Western', 'Sea', 'state', 'tend', 'inland', 'Western', 'Sea']\n"
          ]
        }
      ]
    },
    {
      "cell_type": "markdown",
      "source": [
        "**POET1 SIMILARITY TO POET2**"
      ],
      "metadata": {
        "id": "tBisz4ZVQGYm"
      }
    },
    {
      "cell_type": "code",
      "source": [
        "poet1= tmp.nlp(tmp.corpus1[0])\n",
        "poet2= tmp.nlp(tmp.corpus2[0])\n",
        "\n",
        "print('Similariy Score between Poets\\n')\n",
        "print(poet1.similarity(poet2))"
      ],
      "metadata": {
        "colab": {
          "base_uri": "https://localhost:8080/"
        },
        "id": "WEPaXm7BQYzd",
        "outputId": "4323880f-6d68-46db-ba6c-90e3548cf386"
      },
      "execution_count": null,
      "outputs": [
        {
          "output_type": "stream",
          "name": "stdout",
          "text": [
            "Similariy Score between Poets\n",
            "\n",
            "0.8908293057099301\n"
          ]
        }
      ]
    },
    {
      "cell_type": "markdown",
      "source": [
        "**SAVE TO JSON**"
      ],
      "metadata": {
        "id": "-mGSR7QcGdcJ"
      }
    },
    {
      "cell_type": "code",
      "source": [
        "tmp.write_json()"
      ],
      "metadata": {
        "id": "fP2m3wq4GiD5"
      },
      "execution_count": null,
      "outputs": []
    },
    {
      "cell_type": "markdown",
      "source": [
        "**COMPUTE COSINE SIMILARITY OF POS1 WITH POS2 AND POS2 WITH POS1**"
      ],
      "metadata": {
        "id": "DpbpRgxQ5B1B"
      }
    },
    {
      "cell_type": "code",
      "source": [
        "#compute cosine similarity of pos\n",
        "tmp.ComputeSimilarity()"
      ],
      "metadata": {
        "colab": {
          "base_uri": "https://localhost:8080/"
        },
        "id": "W26UrcouwXhV",
        "outputId": "3e6f5c11-96ae-455e-c2fb-7c445486083c"
      },
      "execution_count": null,
      "outputs": [
        {
          "output_type": "stream",
          "name": "stdout",
          "text": [
            "Poem1 Similar POS in Poem2\n",
            "{'low': ['tend', 0.40840405298898613], 'tree': ['Sea', 0.313362436849934], 'top': ['great', 0.44236875338523934], 'ant': ['american', 0.3150424245599439], 'gall': ['american', 0.21592492221209175], 'fly': ['travel', 0.3645267819045084], 'spleen': ['tend', 0.13374097976809374], 'little': ['great', 0.5762745594017369], 'spark': ['promise', 0.3296348155907348], 'heat': ['Sea', 0.31678863986992073], 'slender': ['robust', 0.32855279202726356], 'hair': ['love', 0.3386225894484643], 'cast': ['love', 0.31235649917176816], 'shadow': ['love', 0.3157092622181797], 'small': ['great', 0.45996015771136195], 'bee': ['american', 0.32704123225849774], 'sting': ['Sea', 0.21636614359029013], 'great': ['great', 1.0], 'Seas': ['Sea', 0.7588611260958456], 'source': ['state', 0.36059794225701935], 'shallow': ['Sea', 0.4639173852276098], 'spring': ['great', 0.3497330871515922], 'love': ['love', 1.0], 'beggar': ['sojourn', 0.29596048286044946], 'king': ['great', 0.36094378527190957], 'water': ['Sea', 0.5820896593648659], 'run': ['know', 0.4351673437917569], 'deep': ['Sea', 0.4300835491387872], 'ford': ['California', 0.473499721543899], 'dial': ['american', 0.18282548962971923], 'stir': ['tend', 0.2978189806385452], 'perceive': ['tend', 0.5442970046522951], 'firm': ['robust', 0.34869174535693614], 'faith': ['promise', 0.5533792973078633], 'find': ['know', 0.6963148286738573], 'few': ['know', 0.6087599809550703], 'word': ['know', 0.5064416940521469], 'turtle': ['Sea', 0.5116128077172022], 'sing': ['love', 0.5121174649972536], 'true': ['know', 0.5748674443314097], 'heart': ['love', 0.5267281491653901], 'eye': ['know', 0.38562197965211864], 'tongue': ['love', 0.3088307326736408], 'speak': ['know', 0.6450871378896621], 'hear': ['know', 0.7271601804264267], 'sigh': ['promise', 0.41300517270377723], 'break': ['know', 0.4664808577504546]}\n",
            "\n",
            "\n",
            "Poem2 Similar POS in Poem2\n",
            "{'promise': ['faith', 0.5533792973078633], 'California': ['ford', 0.473499721543899], 'great': ['great', 1.0], 'Pastoral': ['faith', 0.3902119356081014], 'Plains': ['Seas', 0.4251830277925974], 'Oregon': ['ford', 0.46890624039725337], 'sojourn': ['Seas', 0.3150760810042024], 'travel': ['find', 0.39788476564463554], 'remain': ['faith', 0.44615161515711366], 'teach': ['speak', 0.5918277167851805], 'robust': ['small', 0.3743192547455708], 'american': ['ford', 0.4730010618694871], 'love': ['love', 1.0], 'know': ['hear', 0.7271601804264267], 'belong': ['faith', 0.42716894057003474], 'inland': ['Seas', 0.5766058619343798], 'Western': ['Seas', 0.3380724257530488], 'Sea': ['Seas', 0.7588611260958456], 'state': ['true', 0.3813843435648881], 'tend': ['perceive', 0.5442970046522951]}\n"
          ]
        }
      ]
    },
    {
      "cell_type": "markdown",
      "source": [
        "**CREATE NEW POEMS**"
      ],
      "metadata": {
        "id": "2uBilmzy5JlA"
      }
    },
    {
      "cell_type": "code",
      "source": [
        "#create new poems\n",
        "tmp.Create_new_Poems()"
      ],
      "metadata": {
        "id": "iZrcIMvU2HPs"
      },
      "execution_count": null,
      "outputs": []
    },
    {
      "cell_type": "markdown",
      "source": [
        "**PRINT THE NEW POEMS**"
      ],
      "metadata": {
        "id": "12uquQvX5NcF"
      }
    },
    {
      "cell_type": "code",
      "source": [
        "#print the new poems\n",
        "tmp.print_new_Poems()"
      ],
      "metadata": {
        "colab": {
          "base_uri": "https://localhost:8080/"
        },
        "id": "sKIJc29I2JsE",
        "outputId": "fd5ac8f9-fb9c-492c-b10e-edbde90eb354"
      },
      "execution_count": null,
      "outputs": [
        {
          "output_type": "stream",
          "name": "stdout",
          "text": [
            "\n",
            " New Poem1 based on POS of Poem2\n",
            "\r\n",
            "\t tend Sea great , american american , \r\n",
            "\t travel tend , great promise Sea ; \r\n",
            "\t robust love love love , great , \r\n",
            "\t american Sea , great . \r\n",
            "\t      Sea state , shaltend great , \r\n",
            "\t      love love , sojourn great . \r\n",
            "\t Sea smooth know , Sea California , \r\n",
            "\t american tend , tend ; \r\n",
            "\t robust promise know know know , \r\n",
            "\t Sea love , love ; \r\n",
            "\t      know love ear know , love know ; \r\n",
            "\t      know , promise , know .\n",
            "\n",
            " New Poem2 based on POS of Poem1\n",
            "faith ford , \n",
            " great faith Seass , ford : \n",
            " Seass east longer , soon find , faith , \n",
            "          speak small ford love ; \n",
            " hear small love faith , Seass , \n",
            "          Seass Seas ; \n",
            " true perceive Seass , Seass Seas — \n",
            "          .\n"
          ]
        }
      ]
    },
    {
      "cell_type": "markdown",
      "source": [
        "###**NEW POEM WITHOUT LEMMATIZATION**"
      ],
      "metadata": {
        "id": "k2aNQjUABEVg"
      }
    },
    {
      "cell_type": "code",
      "source": [
        "#run preporcessing function\n",
        "tmp.PreprocessPoems(lematization=False)"
      ],
      "metadata": {
        "colab": {
          "base_uri": "https://localhost:8080/"
        },
        "id": "JIb90YETBHk0",
        "outputId": "29341af9-96c3-43b8-97c2-836b09a3af57"
      },
      "execution_count": null,
      "outputs": [
        {
          "output_type": "stream",
          "name": "stdout",
          "text": [
            "Cleaned Poem1\n",
            "============\n",
            "[' The lowest trees have tops the ant her gall The fly her spleen the little spark his heat And slender hairs cast shadows though but small And bees have stings although they be not great Seas have their source and so have shallow springs And love is love in beggars and in kings Where waters smoothest run there deepest are the fords The dial stirs yet none perceives it move The firmest faith is found in fewest words The turtles do not sing and yet they love True hearts have ears and eyes no tongues to speak They hear and see and sigh and then they break ']\n",
            "\n",
            "\n",
            "Cleaned Poem2\n",
            "============\n",
            "['A PROMISE to California Also to the great Pastoral Plains and for Oregon Sojourning east a while longer soon I travel toward you to remain to teach robust American love For I know very well that I and robust love belong among you inland and along the Western Sea For These States tend inland and toward the Western Sea and I will also ']\n",
            "\n",
            "****************************\n",
            "POS OF POEMS\n",
            "============\n",
            "Poem1 POS\n",
            "['low', 'tree', 'top', 'ant', 'gall', 'fly', 'spleen', 'little', 'spark', 'heat', 'slender', 'hair', 'cast', 'shadow', 'small', 'bee', 'sting', 'great', 'Seas', 'source', 'shallow', 'spring', 'love', 'love', 'beggar', 'king', 'water', 'run', 'deep', 'ford', 'dial', 'stir', 'perceive', 'firm', 'faith', 'find', 'few', 'word', 'turtle', 'sing', 'love', 'true', 'heart', 'eye', 'tongue', 'speak', 'hear', 'sigh', 'break', 'lowest', 'trees', 'tops', 'ant', 'gall', 'fly', 'spleen', 'little', 'spark', 'heat', 'slender', 'hairs', 'cast', 'shadows', 'small', 'bees', 'stings', 'be', 'great', 'Seas', 'source', 'shallow', 'springs', 'love', 'love', 'beggars', 'kings', 'waters', 'smoothest', 'run', 'deepest', 'fords', 'dial', 'stirs', 'none', 'perceives', 'move', 'firmest', 'faith', 'found', 'fewest', 'words', 'turtles', 'sing', 'love', 'True', 'hearts', 'ears', 'eyes', 'tongues', 'speak', 'hear', 'see', 'sigh', 'break']\n",
            "\n",
            "\n",
            "Poem2 POS\n",
            "['promise', 'California', 'great', 'Pastoral', 'Plains', 'Oregon', 'sojourn', 'travel', 'remain', 'teach', 'robust', 'american', 'love', 'know', 'robust', 'love', 'belong', 'inland', 'Western', 'Sea', 'state', 'tend', 'inland', 'Western', 'Sea', 'PROMISE', 'California', 'great', 'Pastoral', 'Plains', 'Oregon', 'Sojourning', 'east', 'while', 'travel', 'remain', 'teach', 'robust', 'American', 'love', 'know', 'robust', 'love', 'belong', 'Western', 'Sea', 'States', 'tend', 'inland', 'Western', 'Sea', 'will']\n"
          ]
        }
      ]
    },
    {
      "cell_type": "code",
      "source": [
        "#compute cosine similarity of pos\n",
        "tmp.ComputeSimilarity()"
      ],
      "metadata": {
        "colab": {
          "base_uri": "https://localhost:8080/"
        },
        "id": "ImEHqDEYBNHh",
        "outputId": "db18ef8d-f4ff-4d3a-ee1c-6c7b5833ed2a"
      },
      "execution_count": null,
      "outputs": [
        {
          "output_type": "stream",
          "name": "stdout",
          "text": [
            "Poem1 Similar POS in Poem2\n",
            "{'low': ['while', 0.43165374058737765], 'tree': ['Sea', 0.313362436849934], 'top': ['great', 0.44236875338523934], 'ant': ['american', 0.3150424245599439], 'gall': ['american', 0.21592492221209175], 'fly': ['travel', 0.3645267819045084], 'spleen': ['tend', 0.13374097976809374], 'little': ['great', 0.5762745594017369], 'spark': ['promise', 0.3296348155907348], 'heat': ['while', 0.3544596598157722], 'slender': ['robust', 0.32855279202726356], 'hair': ['love', 0.3386225894484643], 'cast': ['will', 0.33435881085532787], 'shadow': ['love', 0.3157092622181797], 'small': ['great', 0.45996015771136195], 'bee': ['american', 0.32704123225849774], 'sting': ['while', 0.23451255950600286], 'great': ['great', 1.0], 'Seas': ['Sea', 0.7588611260958456], 'source': ['state', 0.36059794225701935], 'shallow': ['Sea', 0.4639173852276098], 'spring': ['will', 0.40496911437068195], 'love': ['love', 1.0], 'beggar': ['sojourn', 0.29596048286044946], 'king': ['great', 0.36094378527190957], 'water': ['Sea', 0.5820896593648659], 'run': ['will', 0.5138496576760508], 'deep': ['Sea', 0.4300835491387872], 'ford': ['California', 0.473499721543899], 'dial': ['while', 0.20852330247436052], 'stir': ['will', 0.3117420725152487], 'perceive': ['tend', 0.5442970046522951], 'firm': ['robust', 0.34869174535693614], 'faith': ['promise', 0.5533792973078633], 'find': ['know', 0.6963148286738573], 'few': ['know', 0.6087599809550703], 'word': ['know', 0.5064416940521469], 'turtle': ['Sea', 0.5116128077172022], 'sing': ['love', 0.5121174649972536], 'true': ['know', 0.5748674443314097], 'heart': ['love', 0.5267281491653901], 'eye': ['while', 0.4104002860797906], 'tongue': ['while', 0.37464696210507775], 'speak': ['know', 0.6450871378896621], 'hear': ['know', 0.7271601804264267], 'sigh': ['promise', 0.41300517270377723], 'break': ['while', 0.5347584452157763], 'lowest': ['States', 0.3434836057718801], 'trees': ['Sea', 0.39893177569646576], 'tops': ['while', 0.3135219625059635], 'hairs': ['tend', 0.3234210666749553], 'shadows': ['love', 0.3254620290150698], 'bees': ['tend', 0.337803643944189], 'stings': ['tend', 0.1710154505103058], 'be': ['will', 0.8211989383141697], 'springs': ['Oregon', 0.44925131940592966], 'beggars': ['belong', 0.23124664930856073], 'kings': ['belong', 0.35795145076468143], 'waters': ['Sea', 0.7350880149330672], 'smoothest': ['robust', 0.24947382551777433], 'deepest': ['love', 0.32084750305281357], 'fords': ['american', 0.3022914702417714], 'stirs': ['sojourn', 0.2045933604134906], 'none': ['know', 0.5450214047871599], 'perceives': ['States', 0.22470547219902232], 'move': ['will', 0.6034264620960338], 'firmest': ['robust', 0.14937979560549988], 'found': ['know', 0.49709864118509844], 'fewest': ['States', 0.22272838895015676], 'words': ['know', 0.44910946393642903], 'turtles': ['Sea', 0.516335633029524], 'True': ['know', 0.5748674443314097], 'hearts': ['love', 0.572843392212446], 'ears': ['while', 0.35675357244831396], 'eyes': ['love', 0.45938447848278363], 'tongues': ['teach', 0.2595256397116872], 'see': ['know', 0.7483435824415077]}\n",
            "\n",
            "\n",
            "Poem2 Similar POS in Poem2\n",
            "{'promise': ['faith', 0.5533792973078633], 'California': ['ford', 0.473499721543899], 'great': ['great', 1.0], 'Pastoral': ['faith', 0.3902119356081014], 'Plains': ['waters', 0.4380300648375678], 'Oregon': ['ford', 0.46890624039725337], 'sojourn': ['waters', 0.323422940350778], 'travel': ['find', 0.39788476564463554], 'remain': ['be', 0.6902233674529911], 'teach': ['speak', 0.5918277167851805], 'robust': ['small', 0.3743192547455708], 'american': ['ford', 0.4730010618694871], 'love': ['love', 1.0], 'know': ['see', 0.7483435824415077], 'belong': ['none', 0.48212843013769885], 'inland': ['waters', 0.6449207979678094], 'Western': ['waters', 0.3711453638246278], 'Sea': ['Seas', 0.7588611260958456], 'state': ['be', 0.4240280848224846], 'tend': ['perceive', 0.5442970046522951], 'PROMISE': ['faith', 0.5533792973078633], 'Sojourning': ['low', 0.0], 'east': ['waters', 0.4338081324881313], 'while': ['few', 0.5416834247172128], 'American': ['ford', 0.4730010618694871], 'States': ['be', 0.3940016157986318], 'will': ['be', 0.8211989383141697]}\n"
          ]
        }
      ]
    },
    {
      "cell_type": "code",
      "source": [
        "#create new poems\n",
        "tmp.Create_new_Poems()"
      ],
      "metadata": {
        "id": "THBspvi0BO_k"
      },
      "execution_count": null,
      "outputs": []
    },
    {
      "cell_type": "code",
      "source": [
        "#print the new poems\n",
        "tmp.print_new_Poems()"
      ],
      "metadata": {
        "colab": {
          "base_uri": "https://localhost:8080/"
        },
        "id": "WefxNjgOBQMn",
        "outputId": "aee3765a-1e6a-4dbe-d68d-71572e72929d"
      },
      "execution_count": null,
      "outputs": [
        {
          "output_type": "stream",
          "name": "stdout",
          "text": [
            "\n",
            " New Poem1 based on POS of Poem2\n",
            "\r\n",
            "\tThe whileest Sea have greats, the american her american,\r\n",
            "\tThe travel her tend, the great promise his while;\r\n",
            "\tAnd robust loves will loves, though but great,\r\n",
            "\tAnd americans have whiles, although they will not great.\r\n",
            "\t     Sea have their state, and so have shalwhile wills,\r\n",
            "\t     And love is love, in sojourns and in greats.\r\n",
            "\tWhere Seas robust will, there Seaest are the Californias,\r\n",
            "\tThe while wills, yet know tends it will;\r\n",
            "\tThe robustest promise is know in knowest knows,\r\n",
            "\tThe Seas do not love, and yet they love;\r\n",
            "\t     know loves have while and whiles, no whiles to know;\r\n",
            "\t     They know and know, and promise, and then they while.\n",
            "\n",
            " New Poem2 based on POS of Poem1\n",
            "A faith to ford,\n",
            "Also to the great faith waters, and for ford:\n",
            "low waters a few longer, soon I find toward you, to be,\n",
            "         to speak small ford love;\n",
            "For I see very well that I and small love none among you, waters,\n",
            "         and along the waters Seas;\n",
            "For These be perceive waters, and toward the waters Seas—and I be\n",
            "         also.\n"
          ]
        }
      ]
    }
  ]
}